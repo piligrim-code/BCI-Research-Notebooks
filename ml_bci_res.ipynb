{
 "cells": [
  {
   "cell_type": "markdown",
   "id": "339d5136",
   "metadata": {},
   "source": [
    "\n",
    "# BCI Motor Imagery: LOSO CV + CSP/LDA vs EEGNet (MNE + PyTorch + Optuna)\n",
    "\n",
    "Этот ноутбук:\n",
    "- Загружает EEGBCI (PhysioNet) для моторного воображения (рука/рука).\n",
    "- Делает препроцессинг в MNE с опцией baseline.\n",
    "- Считает baseline **CSP+LDA** и сравнивает с **EEGNet (PyTorch)**.\n",
    "- Реализует **Leave-One-Subject-Out (LOSO)** и **Optuna** для HPO.\n",
    "- Исправлены ошибки:\n",
    "  - Лейблы ремапятся в **[0..K-1]** на каждом LOSO-сплите.\n",
    "  - В тесте удаляются сэмплы классов, которых нет в трейне (типичная проблема LOSO).\n",
    "  - **Optuna**: `suggest_float(..., log=True)` вместо `suggest_loguniform`.\n",
    "  - Безопасный перенос на GPU с **fallback на CPU** при ошибках CUDA.\n"
   ]
  },
  {
   "cell_type": "code",
   "execution_count": 1,
   "id": "2a3d2285",
   "metadata": {},
   "outputs": [
    {
     "name": "stdout",
     "output_type": "stream",
     "text": [
      "Versions -> mne: 1.10.0 | torch: 2.7.1+cu118 | optuna: 4.5.0\n"
     ]
    }
   ],
   "source": [
    "\n",
    "# %pip install mne torch scikit-learn optuna matplotlib\n",
    "\n",
    "import os\n",
    "import warnings\n",
    "import random\n",
    "import numpy as np\n",
    "import pandas as pd\n",
    "import matplotlib.pyplot as plt\n",
    "\n",
    "import mne\n",
    "from mne.datasets import eegbci\n",
    "from mne import Epochs, pick_types, events_from_annotations\n",
    "from mne.decoding import CSP\n",
    "\n",
    "from sklearn.pipeline import Pipeline\n",
    "from sklearn.discriminant_analysis import LinearDiscriminantAnalysis as LDA\n",
    "from sklearn.model_selection import cross_val_score, StratifiedKFold\n",
    "from sklearn.metrics import accuracy_score, confusion_matrix, classification_report\n",
    "from sklearn.preprocessing import LabelEncoder\n",
    "\n",
    "import torch\n",
    "import torch.nn as nn\n",
    "from torch.utils.data import Dataset, DataLoader\n",
    "\n",
    "import optuna\n",
    "\n",
    "warnings.filterwarnings(\"ignore\", category=RuntimeWarning)\n",
    "print(\"Versions -> mne:\", mne.__version__, \"| torch:\", torch.__version__, \"| optuna:\", optuna.__version__)\n"
   ]
  },
  {
   "cell_type": "code",
   "execution_count": 2,
   "id": "cdd65e2e",
   "metadata": {},
   "outputs": [
    {
     "data": {
      "text/plain": [
       "device(type='cuda')"
      ]
     },
     "execution_count": 2,
     "metadata": {},
     "output_type": "execute_result"
    }
   ],
   "source": [
    "\n",
    "class CFG:\n",
    "    # Быстрый демо-набор; можно расширить (например, subjects=range(1,10))\n",
    "    subjects = [1, 2, 3]\n",
    "    runs = [4, 8, 12]         # MI runs (left/right hand imagery)\n",
    "    data_path = None          # путь к данным EEGBCI (None => mne сам скачает в MNE_DATA)\n",
    "    \n",
    "    # Препроцессинг\n",
    "    sfreq = 128\n",
    "    l_freq = 7.0\n",
    "    h_freq = 30.0\n",
    "    tmin = 1.0\n",
    "    tmax = 4.0\n",
    "    use_baseline = False      # если True: tmin=-0.2, baseline=(None, 0)\n",
    "    \n",
    "    # Обучение (EEGNet)\n",
    "    batch_size = 32\n",
    "    epochs = 6                # увеличьте для лучшего качества\n",
    "    lr = 1e-3\n",
    "    random_state = 42\n",
    "    \n",
    "    # Optuna\n",
    "    optuna_trials = 3         # увеличьте для реального HPO\n",
    "    quick_debug = False       # True => случайная подс выборки для ускорения\n",
    "\n",
    "cfg = CFG()\n",
    "\n",
    "def set_seed(seed=42):\n",
    "    random.seed(seed); np.random.seed(seed); torch.manual_seed(seed)\n",
    "    if torch.cuda.is_available():\n",
    "        torch.cuda.manual_seed_all(seed)\n",
    "\n",
    "set_seed(cfg.random_state)\n",
    "\n",
    "def get_device_safe():\n",
    "    try:\n",
    "        if torch.cuda.is_available():\n",
    "            return torch.device(\"cuda\")\n",
    "        return torch.device(\"cpu\")\n",
    "    except Exception:\n",
    "        return torch.device(\"cpu\")\n",
    "\n",
    "device = get_device_safe()\n",
    "device\n"
   ]
  },
  {
   "cell_type": "markdown",
   "id": "138b21f6",
   "metadata": {},
   "source": [
    "## Загрузка и препроцессинг"
   ]
  },
  {
   "cell_type": "code",
   "execution_count": 3,
   "id": "5234b28c",
   "metadata": {},
   "outputs": [],
   "source": [
    "\n",
    "def load_preprocess(subject=1, runs=[4,8,12], data_path=None, verbose=False):\n",
    "    # Загрузка\n",
    "    fnames = eegbci.load_data(subject, runs, path=data_path, verbose=verbose)\n",
    "    raws = [mne.io.read_raw_edf(f, preload=True, stim_channel='auto', verbose=False) for f in fnames]\n",
    "    raw = mne.concatenate_raws(raws, verbose=False)\n",
    "    \n",
    "    # Препроцессинг\n",
    "    raw.resample(cfg.sfreq, npad='auto')\n",
    "    raw.filter(cfg.l_freq, cfg.h_freq, fir_design='firwin', verbose=False)\n",
    "    \n",
    "    # События\n",
    "    events, _ = events_from_annotations(raw)\n",
    "    event_id = {'left': 2, 'right': 3}  # EEGBCI labels\n",
    "    \n",
    "    picks = pick_types(raw.info, eeg=True, exclude='bads')\n",
    "    \n",
    "    tmin, tmax = cfg.tmin, cfg.tmax\n",
    "    baseline = None\n",
    "    if cfg.use_baseline:\n",
    "        tmin = -0.2\n",
    "        baseline = (None, 0)\n",
    "    \n",
    "    epochs = Epochs(raw, events, event_id=event_id, tmin=tmin, tmax=tmax,\n",
    "                    picks=picks, baseline=baseline, preload=True, verbose=False)\n",
    "    \n",
    "    X = epochs.get_data()                 # (n_epochs, n_channels, n_times)\n",
    "    y_raw = epochs.events[:, -1]         # {2,3}\n",
    "    return X, y_raw, epochs, raw\n"
   ]
  },
  {
   "cell_type": "markdown",
   "id": "a4cacc63",
   "metadata": {},
   "source": [
    "## Утилиты для меток (чтобы избежать CUDA assert)"
   ]
  },
  {
   "cell_type": "code",
   "execution_count": 4,
   "id": "f883a879",
   "metadata": {},
   "outputs": [],
   "source": [
    "\n",
    "def encode_labels_train_test(y_train, y_test):\n",
    "    \"\"\"Обучаем LabelEncoder на train-метках.\n",
    "    Фильтруем тестовые сэмплы, классов которых нет в трейне.\n",
    "    Возвращаем: y_train_enc, y_test_enc, test_mask, n_classes, encoder\n",
    "    \"\"\"\n",
    "    le = LabelEncoder()\n",
    "    y_train_enc = le.fit_transform(y_train)\n",
    "    test_mask = np.isin(y_test, le.classes_)\n",
    "    y_test_valid = y_test[test_mask]\n",
    "    y_test_enc = le.transform(y_test_valid)\n",
    "    n_classes = len(le.classes_)\n",
    "    return y_train_enc, y_test_enc, test_mask, n_classes, le\n",
    "\n",
    "def zscore_epochs(X):\n",
    "    X = X.astype(np.float32)\n",
    "    mean = X.mean(axis=(1,2), keepdims=True)\n",
    "    std = X.std(axis=(1,2), keepdims=True) + 1e-6\n",
    "    return (X - mean) / std\n"
   ]
  },
  {
   "cell_type": "code",
   "execution_count": 5,
   "id": "9b943613",
   "metadata": {},
   "outputs": [],
   "source": [
    "\n",
    "class EEGDataset(Dataset):\n",
    "    def __init__(self, X, y):\n",
    "        self.X = torch.from_numpy(zscore_epochs(X))\n",
    "        self.y = torch.from_numpy(y.astype(np.int64))\n",
    "    def __len__(self): return len(self.y)\n",
    "    def __getitem__(self, idx):\n",
    "        # Conv2d ждёт (N, 1, C, T)\n",
    "        return self.X[idx].unsqueeze(0), self.y[idx]\n"
   ]
  },
  {
   "cell_type": "code",
   "execution_count": 6,
   "id": "d2af9787",
   "metadata": {},
   "outputs": [],
   "source": [
    "\n",
    "class EEGNet(nn.Module):\n",
    "    def __init__(self, n_channels, n_times, n_classes=2, F1=16, D=2, dropout=0.5):\n",
    "        super().__init__()\n",
    "        self.n_classes = n_classes\n",
    "        \n",
    "        self.firstconv = nn.Sequential(\n",
    "            nn.Conv2d(1, F1, kernel_size=(1, 51), padding=(0,25), bias=False),\n",
    "            nn.BatchNorm2d(F1)\n",
    "        )\n",
    "        self.depthwise = nn.Sequential(\n",
    "            nn.Conv2d(F1, F1*D, kernel_size=(n_channels,1), groups=F1, bias=False),\n",
    "            nn.BatchNorm2d(F1*D),\n",
    "            nn.ELU(),\n",
    "            nn.AvgPool2d(kernel_size=(1,4)),\n",
    "            nn.Dropout(dropout)\n",
    "        )\n",
    "        self.separable = nn.Sequential(\n",
    "            nn.Conv2d(F1*D, F1*D, kernel_size=(1,15), padding=(0,7), bias=False),\n",
    "            nn.BatchNorm2d(F1*D),\n",
    "            nn.ELU(),\n",
    "            nn.AvgPool2d(kernel_size=(1,8)),\n",
    "            nn.Dropout(dropout)\n",
    "        )\n",
    "        self.head = nn.Sequential(\n",
    "            nn.AdaptiveAvgPool2d((1,1)),\n",
    "            nn.Flatten(),\n",
    "            nn.Linear(F1*D, n_classes)\n",
    "        )\n",
    "    def forward(self, x):\n",
    "        x = self.firstconv(x)\n",
    "        x = self.depthwise(x)\n",
    "        x = self.separable(x)\n",
    "        x = self.head(x)\n",
    "        return x\n"
   ]
  },
  {
   "cell_type": "code",
   "execution_count": 7,
   "id": "ea8b3b4f",
   "metadata": {},
   "outputs": [],
   "source": [
    "\n",
    "def train_model(model, train_loader, val_loader, epochs=10, lr=1e-3):\n",
    "    # Пробуем CUDA, при ошибке перекидываем на CPU\n",
    "    try:\n",
    "        use_device = torch.device(\"cuda\" if torch.cuda.is_available() else \"cpu\")\n",
    "        model = model.to(use_device)\n",
    "    except Exception as e:\n",
    "        print(\"CUDA init failed -> CPU fallback:\", repr(e))\n",
    "        use_device = torch.device(\"cpu\")\n",
    "        model = model.to(use_device)\n",
    "    \n",
    "    optimizer = torch.optim.Adam(model.parameters(), lr=lr)\n",
    "    criterion = nn.CrossEntropyLoss()\n",
    "    \n",
    "    for ep in range(epochs):\n",
    "        model.train()\n",
    "        for xb, yb in train_loader:\n",
    "            xb, yb = xb.to(use_device), yb.to(use_device)\n",
    "            # Safety check\n",
    "            if yb.min() < 0 or yb.max() >= model.n_classes:\n",
    "                raise ValueError(f\"Bad labels in batch: min={yb.min().item()}, max={yb.max().item()}, \"\n",
    "                                 f\"expected within [0..{model.n_classes-1}]\")\n",
    "            optimizer.zero_grad()\n",
    "            logits = model(xb)\n",
    "            loss = criterion(logits, yb)\n",
    "            loss.backward()\n",
    "            optimizer.step()\n",
    "        \n",
    "        # quick val\n",
    "        model.eval(); correct=0; total=0\n",
    "        with torch.no_grad():\n",
    "            for xb, yb in val_loader:\n",
    "                xb, yb = xb.to(use_device), yb.to(use_device)\n",
    "                preds = model(xb).argmax(1)\n",
    "                correct += (preds == yb).sum().item()\n",
    "                total += yb.size(0)\n",
    "        print(f\"Epoch {ep+1}/{epochs} | val acc = {correct/max(total,1):.3f}\")\n",
    "    return model\n"
   ]
  },
  {
   "cell_type": "code",
   "execution_count": 8,
   "id": "b65bf223",
   "metadata": {},
   "outputs": [],
   "source": [
    "def csp_lda_fit_predict(X_train, y_train, X_test, n_components=6):\n",
    "    csp = CSP(n_components=n_components, reg=None, log=True, norm_trace=False)\n",
    "    Xtr = csp.fit_transform(X_train, y_train)\n",
    "    clf = LDA().fit(Xtr, y_train)\n",
    "    Xte = csp.transform(X_test)\n",
    "    return clf.predict(Xte)\n"
   ]
  },
  {
   "cell_type": "markdown",
   "id": "c5524649",
   "metadata": {},
   "source": [
    "## LOSO + Optuna + сравнение моделей"
   ]
  },
  {
   "cell_type": "code",
   "execution_count": 9,
   "id": "bd7da4a7",
   "metadata": {
    "scrolled": true
   },
   "outputs": [
    {
     "name": "stdout",
     "output_type": "stream",
     "text": [
      "=== LOSO: left-out subject 1 ===\n",
      "Used Annotations descriptions: [np.str_('T0'), np.str_('T1'), np.str_('T2')]\n",
      "Used Annotations descriptions: [np.str_('T0'), np.str_('T1'), np.str_('T2')]\n",
      "Used Annotations descriptions: [np.str_('T0'), np.str_('T1'), np.str_('T2')]\n",
      "Computing rank from data with rank=None\n",
      "    Using tolerance 0.00033 (2.2e-16 eps * 64 dim * 2.3e+10  max singular value)\n",
      "    Estimated rank (data): 64\n",
      "    data: rank 64 computed from 64 data channels with 0 projectors\n",
      "Reducing data rank from 64 -> 64\n",
      "Estimating class=0 covariance using EMPIRICAL\n",
      "Done.\n",
      "Estimating class=1 covariance using EMPIRICAL\n",
      "Done.\n"
     ]
    },
    {
     "name": "stderr",
     "output_type": "stream",
     "text": [
      "[I 2025-09-10 00:29:48,856] A new study created in memory with name: no-name-17fc6853-f697-4c25-8233-0a67b46411bf\n"
     ]
    },
    {
     "name": "stdout",
     "output_type": "stream",
     "text": [
      "CSP+LDA acc: 0.489\n",
      "Epoch 1/4 | val acc = 0.511\n",
      "Epoch 2/4 | val acc = 0.511\n",
      "Epoch 3/4 | val acc = 0.511\n"
     ]
    },
    {
     "name": "stderr",
     "output_type": "stream",
     "text": [
      "[I 2025-09-10 00:29:52,135] Trial 0 finished with value: 0.5111111111111111 and parameters: {'F1': 32, 'D': 1, 'dropout': 0.45326550568397994, 'lr': 0.0005310229292330667, 'batch_size': 64}. Best is trial 0 with value: 0.5111111111111111.\n"
     ]
    },
    {
     "name": "stdout",
     "output_type": "stream",
     "text": [
      "Epoch 4/4 | val acc = 0.511\n",
      "Epoch 1/4 | val acc = 0.511\n",
      "Epoch 2/4 | val acc = 0.511\n"
     ]
    },
    {
     "name": "stderr",
     "output_type": "stream",
     "text": [
      "[I 2025-09-10 00:29:52,388] Trial 1 finished with value: 0.5111111111111111 and parameters: {'F1': 8, 'D': 1, 'dropout': 0.628796476003168, 'lr': 0.00048381132518390824, 'batch_size': 16}. Best is trial 0 with value: 0.5111111111111111.\n"
     ]
    },
    {
     "name": "stdout",
     "output_type": "stream",
     "text": [
      "Epoch 3/4 | val acc = 0.511\n",
      "Epoch 4/4 | val acc = 0.511\n",
      "Epoch 1/4 | val acc = 0.489\n",
      "Epoch 2/4 | val acc = 0.489\n"
     ]
    },
    {
     "name": "stderr",
     "output_type": "stream",
     "text": [
      "[I 2025-09-10 00:29:52,673] Trial 2 finished with value: 0.4666666666666667 and parameters: {'F1': 16, 'D': 3, 'dropout': 0.6027513721661512, 'lr': 0.002814162377023089, 'batch_size': 64}. Best is trial 0 with value: 0.5111111111111111.\n"
     ]
    },
    {
     "name": "stdout",
     "output_type": "stream",
     "text": [
      "Epoch 3/4 | val acc = 0.489\n",
      "Epoch 4/4 | val acc = 0.467\n",
      "Epoch 1/6 | val acc = 0.511\n",
      "Epoch 2/6 | val acc = 0.511\n",
      "Epoch 3/6 | val acc = 0.511\n",
      "Epoch 4/6 | val acc = 0.511\n",
      "Epoch 5/6 | val acc = 0.511\n",
      "Epoch 6/6 | val acc = 0.511\n",
      "=== LOSO: left-out subject 2 ===\n",
      "Used Annotations descriptions: [np.str_('T0'), np.str_('T1'), np.str_('T2')]\n",
      "Used Annotations descriptions: [np.str_('T0'), np.str_('T1'), np.str_('T2')]\n",
      "Used Annotations descriptions: [np.str_('T0'), np.str_('T1'), np.str_('T2')]\n",
      "Computing rank from data with rank=None\n",
      "    Using tolerance 0.00039 (2.2e-16 eps * 64 dim * 2.7e+10  max singular value)\n",
      "    Estimated rank (data): 64\n",
      "    data: rank 64 computed from 64 data channels with 0 projectors\n",
      "Reducing data rank from 64 -> 64\n",
      "Estimating class=0 covariance using EMPIRICAL\n",
      "Done.\n",
      "Estimating class=1 covariance using EMPIRICAL\n",
      "Done.\n"
     ]
    },
    {
     "name": "stderr",
     "output_type": "stream",
     "text": [
      "[I 2025-09-10 00:29:56,116] A new study created in memory with name: no-name-69dc77c1-f8cd-4ee4-9ea8-158586f67744\n"
     ]
    },
    {
     "name": "stdout",
     "output_type": "stream",
     "text": [
      "CSP+LDA acc: 0.400\n",
      "Epoch 1/4 | val acc = 0.489\n",
      "Epoch 2/4 | val acc = 0.489\n",
      "Epoch 3/4 | val acc = 0.489\n"
     ]
    },
    {
     "name": "stderr",
     "output_type": "stream",
     "text": [
      "[I 2025-09-10 00:29:56,523] Trial 0 finished with value: 0.4888888888888889 and parameters: {'F1': 16, 'D': 1, 'dropout': 0.49534327298078806, 'lr': 0.00038830662252659006, 'batch_size': 64}. Best is trial 0 with value: 0.4888888888888889.\n"
     ]
    },
    {
     "name": "stdout",
     "output_type": "stream",
     "text": [
      "Epoch 4/4 | val acc = 0.489\n",
      "Epoch 1/4 | val acc = 0.511\n",
      "Epoch 2/4 | val acc = 0.511\n",
      "Epoch 3/4 | val acc = 0.511\n"
     ]
    },
    {
     "name": "stderr",
     "output_type": "stream",
     "text": [
      "[I 2025-09-10 00:29:56,842] Trial 1 finished with value: 0.5111111111111111 and parameters: {'F1': 16, 'D': 2, 'dropout': 0.26006937389886, 'lr': 0.0014034638480086622, 'batch_size': 64}. Best is trial 1 with value: 0.5111111111111111.\n"
     ]
    },
    {
     "name": "stdout",
     "output_type": "stream",
     "text": [
      "Epoch 4/4 | val acc = 0.511\n",
      "Epoch 1/4 | val acc = 0.400\n",
      "Epoch 2/4 | val acc = 0.533\n",
      "Epoch 3/4 | val acc = 0.467\n"
     ]
    },
    {
     "name": "stderr",
     "output_type": "stream",
     "text": [
      "[I 2025-09-10 00:29:57,245] Trial 2 finished with value: 0.5333333333333333 and parameters: {'F1': 8, 'D': 4, 'dropout': 0.2879483359874494, 'lr': 0.0019704837498947347, 'batch_size': 16}. Best is trial 2 with value: 0.5333333333333333.\n"
     ]
    },
    {
     "name": "stdout",
     "output_type": "stream",
     "text": [
      "Epoch 4/4 | val acc = 0.533\n",
      "Epoch 1/6 | val acc = 0.489\n",
      "Epoch 2/6 | val acc = 0.489\n",
      "Epoch 3/6 | val acc = 0.467\n",
      "Epoch 4/6 | val acc = 0.422\n",
      "Epoch 5/6 | val acc = 0.511\n",
      "Epoch 6/6 | val acc = 0.444\n",
      "=== LOSO: left-out subject 3 ===\n",
      "Used Annotations descriptions: [np.str_('T0'), np.str_('T1'), np.str_('T2')]\n",
      "Used Annotations descriptions: [np.str_('T0'), np.str_('T1'), np.str_('T2')]\n",
      "Used Annotations descriptions: [np.str_('T0'), np.str_('T1'), np.str_('T2')]\n",
      "Computing rank from data with rank=None\n",
      "    Using tolerance 0.00028 (2.2e-16 eps * 64 dim * 1.9e+10  max singular value)\n",
      "    Estimated rank (data): 64\n",
      "    data: rank 64 computed from 64 data channels with 0 projectors\n",
      "Reducing data rank from 64 -> 64\n",
      "Estimating class=0 covariance using EMPIRICAL\n",
      "Done.\n",
      "Estimating class=1 covariance using EMPIRICAL\n",
      "Done.\n"
     ]
    },
    {
     "name": "stderr",
     "output_type": "stream",
     "text": [
      "[I 2025-09-10 00:30:01,176] A new study created in memory with name: no-name-4426c9a9-6107-4b4c-b1c7-aef2a9144cb3\n"
     ]
    },
    {
     "name": "stdout",
     "output_type": "stream",
     "text": [
      "CSP+LDA acc: 0.489\n",
      "Epoch 1/4 | val acc = 0.511\n",
      "Epoch 2/4 | val acc = 0.444\n"
     ]
    },
    {
     "name": "stderr",
     "output_type": "stream",
     "text": [
      "[I 2025-09-10 00:30:02,076] Trial 0 finished with value: 0.4444444444444444 and parameters: {'F1': 32, 'D': 4, 'dropout': 0.3078819170449979, 'lr': 0.005522715661199732, 'batch_size': 16}. Best is trial 0 with value: 0.4444444444444444.\n"
     ]
    },
    {
     "name": "stdout",
     "output_type": "stream",
     "text": [
      "Epoch 3/4 | val acc = 0.444\n",
      "Epoch 4/4 | val acc = 0.444\n",
      "Epoch 1/4 | val acc = 0.489\n",
      "Epoch 2/4 | val acc = 0.489\n"
     ]
    },
    {
     "name": "stderr",
     "output_type": "stream",
     "text": [
      "[I 2025-09-10 00:30:02,694] Trial 1 finished with value: 0.4888888888888889 and parameters: {'F1': 32, 'D': 4, 'dropout': 0.6963856027577339, 'lr': 0.000612197660938815, 'batch_size': 64}. Best is trial 1 with value: 0.4888888888888889.\n"
     ]
    },
    {
     "name": "stdout",
     "output_type": "stream",
     "text": [
      "Epoch 3/4 | val acc = 0.489\n",
      "Epoch 4/4 | val acc = 0.489\n",
      "Epoch 1/4 | val acc = 0.444\n",
      "Epoch 2/4 | val acc = 0.489\n"
     ]
    },
    {
     "name": "stderr",
     "output_type": "stream",
     "text": [
      "[I 2025-09-10 00:30:03,314] Trial 2 finished with value: 0.4888888888888889 and parameters: {'F1': 32, 'D': 4, 'dropout': 0.6770655535751922, 'lr': 0.008293009768016718, 'batch_size': 16}. Best is trial 1 with value: 0.4888888888888889.\n"
     ]
    },
    {
     "name": "stdout",
     "output_type": "stream",
     "text": [
      "Epoch 3/4 | val acc = 0.489\n",
      "Epoch 4/4 | val acc = 0.489\n",
      "Epoch 1/6 | val acc = 0.511\n",
      "Epoch 2/6 | val acc = 0.400\n",
      "Epoch 3/6 | val acc = 0.444\n",
      "Epoch 4/6 | val acc = 0.467\n",
      "Epoch 5/6 | val acc = 0.467\n",
      "Epoch 6/6 | val acc = 0.467\n"
     ]
    },
    {
     "data": {
      "text/html": [
       "<div>\n",
       "<style scoped>\n",
       "    .dataframe tbody tr th:only-of-type {\n",
       "        vertical-align: middle;\n",
       "    }\n",
       "\n",
       "    .dataframe tbody tr th {\n",
       "        vertical-align: top;\n",
       "    }\n",
       "\n",
       "    .dataframe thead th {\n",
       "        text-align: right;\n",
       "    }\n",
       "</style>\n",
       "<table border=\"1\" class=\"dataframe\">\n",
       "  <thead>\n",
       "    <tr style=\"text-align: right;\">\n",
       "      <th></th>\n",
       "      <th>left_out_subject</th>\n",
       "      <th>acc_csp_lda</th>\n",
       "      <th>acc_eegnet</th>\n",
       "      <th>best_params</th>\n",
       "    </tr>\n",
       "  </thead>\n",
       "  <tbody>\n",
       "    <tr>\n",
       "      <th>0</th>\n",
       "      <td>1</td>\n",
       "      <td>0.488889</td>\n",
       "      <td>0.511111</td>\n",
       "      <td>{'F1': 32, 'D': 1, 'dropout': 0.45326550568397...</td>\n",
       "    </tr>\n",
       "    <tr>\n",
       "      <th>1</th>\n",
       "      <td>2</td>\n",
       "      <td>0.400000</td>\n",
       "      <td>0.444444</td>\n",
       "      <td>{'F1': 8, 'D': 4, 'dropout': 0.287948335987449...</td>\n",
       "    </tr>\n",
       "    <tr>\n",
       "      <th>2</th>\n",
       "      <td>3</td>\n",
       "      <td>0.488889</td>\n",
       "      <td>0.466667</td>\n",
       "      <td>{'F1': 32, 'D': 4, 'dropout': 0.69638560275773...</td>\n",
       "    </tr>\n",
       "  </tbody>\n",
       "</table>\n",
       "</div>"
      ],
      "text/plain": [
       "   left_out_subject  acc_csp_lda  acc_eegnet  \\\n",
       "0                 1     0.488889    0.511111   \n",
       "1                 2     0.400000    0.444444   \n",
       "2                 3     0.488889    0.466667   \n",
       "\n",
       "                                         best_params  \n",
       "0  {'F1': 32, 'D': 1, 'dropout': 0.45326550568397...  \n",
       "1  {'F1': 8, 'D': 4, 'dropout': 0.287948335987449...  \n",
       "2  {'F1': 32, 'D': 4, 'dropout': 0.69638560275773...  "
      ]
     },
     "execution_count": 9,
     "metadata": {},
     "output_type": "execute_result"
    }
   ],
   "source": [
    "\n",
    "def loso_experiment(subjects, runs, optuna_trials=3):\n",
    "    results = []\n",
    "    for test_subject in subjects:\n",
    "        print(f\"=== LOSO: left-out subject {test_subject} ===\")\n",
    "        # load train subjects\n",
    "        X_train_list, y_train_list = [], []\n",
    "        for s in subjects:\n",
    "            if s == test_subject: continue\n",
    "            Xs, ys, _, _ = load_preprocess(s, runs, data_path=cfg.data_path, verbose=False)\n",
    "            if cfg.quick_debug:\n",
    "                idx = np.random.choice(len(ys), min(200, len(ys)), replace=False)\n",
    "                Xs, ys = Xs[idx], ys[idx]\n",
    "            X_train_list.append(Xs); y_train_list.append(ys)\n",
    "        X_train_all = np.concatenate(X_train_list); y_train_all = np.concatenate(y_train_list)\n",
    "        \n",
    "        # load test subject\n",
    "        X_test, y_test, _, _ = load_preprocess(test_subject, runs, data_path=cfg.data_path, verbose=False)\n",
    "        if cfg.quick_debug:\n",
    "            idx = np.random.choice(len(y_test), min(120, len(y_test)), replace=False)\n",
    "            X_test, y_test = X_test[idx], y_test[idx]\n",
    "        \n",
    "        # Encode labels & filter unseen test classes\n",
    "        y_train_enc, y_test_enc, test_mask, n_classes, le = encode_labels_train_test(y_train_all, y_test)\n",
    "        X_test_enc = X_test[test_mask]\n",
    "        if len(X_test_enc) == 0:\n",
    "            print(\"Skip: no overlapping classes between train and test\")\n",
    "            continue\n",
    "        \n",
    "        # Baseline CSP+LDA\n",
    "        y_pred_csp = csp_lda_fit_predict(X_train_all, y_train_enc, X_test_enc, n_components=6)\n",
    "        acc_csp = accuracy_score(y_test_enc, y_pred_csp)\n",
    "        print(f\"CSP+LDA acc: {acc_csp:.3f}\")\n",
    "        \n",
    "        # Optuna HPO (EEGNet)\n",
    "        def objective(trial):\n",
    "            F1 = trial.suggest_categorical(\"F1\", [8, 16, 32])\n",
    "            D = trial.suggest_int(\"D\", 1, 4)\n",
    "            dropout = trial.suggest_float(\"dropout\", 0.1, 0.7)\n",
    "            lr = trial.suggest_float(\"lr\", 1e-4, 1e-2, log=True)\n",
    "            batch_size = trial.suggest_categorical(\"batch_size\", [16, 32, 64])\n",
    "            \n",
    "            train_ds = EEGDataset(X_train_all, y_train_enc)\n",
    "            val_ds = EEGDataset(X_test_enc, y_test_enc)\n",
    "            train_loader = DataLoader(train_ds, batch_size=batch_size, shuffle=True)\n",
    "            val_loader = DataLoader(val_ds, batch_size=batch_size, shuffle=False)\n",
    "            \n",
    "            model = EEGNet(n_channels=X_train_all.shape[1], n_times=X_train_all.shape[2],\n",
    "                           n_classes=n_classes, F1=F1, D=D, dropout=dropout)\n",
    "            # Короткая тренировка на HPO\n",
    "            ep = 3 if cfg.quick_debug else max(4, cfg.epochs//2)\n",
    "            try:\n",
    "                _ = train_model(model, train_loader, val_loader, epochs=ep, lr=lr)\n",
    "            except RuntimeError as e:\n",
    "                # Часто помогает fallback на CPU и повтор\n",
    "                if \"CUDA\" in str(e):\n",
    "                    print(\"CUDA error in trial -> retry on CPU\")\n",
    "                    torch.cuda.empty_cache()\n",
    "                    _ = train_model(model.cpu(), train_loader, val_loader, epochs=ep, lr=lr)\n",
    "                else:\n",
    "                    raise\n",
    "            # валидация\n",
    "            mdl = model\n",
    "            mdl.eval()\n",
    "            with torch.no_grad():\n",
    "                # оцениваем на вал-лоадере\n",
    "                correct=0; total=0\n",
    "                dev = next(mdl.parameters()).device\n",
    "                for xb, yb in val_loader:\n",
    "                    xb, yb = xb.to(dev), yb.to(dev)\n",
    "                    preds = mdl(xb).argmax(1)\n",
    "                    correct += (preds == yb).sum().item()\n",
    "                    total += yb.size(0)\n",
    "            return correct / max(total, 1)\n",
    "        \n",
    "        study = optuna.create_study(direction=\"maximize\")\n",
    "        study.optimize(objective, n_trials=optuna_trials)\n",
    "        best = study.best_params\n",
    "        \n",
    "        # Train final EEGNet with best params\n",
    "        train_ds = EEGDataset(X_train_all, y_train_enc)\n",
    "        val_ds = EEGDataset(X_test_enc, y_test_enc)\n",
    "        train_loader = DataLoader(train_ds, batch_size=best.get(\"batch_size\", cfg.batch_size), shuffle=True)\n",
    "        val_loader = DataLoader(val_ds, batch_size=best.get(\"batch_size\", cfg.batch_size), shuffle=False)\n",
    "        \n",
    "        model = EEGNet(n_channels=X_train_all.shape[1], n_times=X_train_all.shape[2],\n",
    "                       n_classes=n_classes, F1=best.get(\"F1\",16), D=best.get(\"D\",2),\n",
    "                       dropout=best.get(\"dropout\",0.5))\n",
    "        model = train_model(model, train_loader, val_loader, epochs=cfg.epochs, lr=best.get(\"lr\", cfg.lr))\n",
    "        \n",
    "        # Final eval\n",
    "        model.eval()\n",
    "        dev = next(model.parameters()).device\n",
    "        y_pred_nn = []\n",
    "        with torch.no_grad():\n",
    "            for xb, _yb in DataLoader(val_ds, batch_size=64, shuffle=False):\n",
    "                xb = xb.to(dev)\n",
    "                y_pred_nn.append(model(xb).argmax(1).cpu().numpy())\n",
    "        y_pred_nn = np.concatenate(y_pred_nn)\n",
    "        acc_nn = accuracy_score(y_test_enc, y_pred_nn)\n",
    "        \n",
    "        results.append({\n",
    "            \"left_out_subject\": test_subject,\n",
    "            \"acc_csp_lda\": acc_csp,\n",
    "            \"acc_eegnet\": acc_nn,\n",
    "            \"best_params\": best\n",
    "        })\n",
    "    return pd.DataFrame(results)\n",
    "\n",
    "results_df = loso_experiment(cfg.subjects, cfg.runs, optuna_trials=cfg.optuna_trials)\n",
    "results_df\n"
   ]
  },
  {
   "cell_type": "markdown",
   "id": "d74beb14",
   "metadata": {},
   "source": [
    "## Визуализация сравнения точности"
   ]
  },
  {
   "cell_type": "code",
   "execution_count": 13,
   "id": "7ef65514-a0c7-4de0-b9a4-4a72f88ec128",
   "metadata": {},
   "outputs": [
    {
     "data": {
      "text/plain": [
       "{'F1': 32,\n",
       " 'D': 1,\n",
       " 'dropout': 0.45326550568397994,\n",
       " 'lr': 0.0005310229292330667,\n",
       " 'batch_size': 64}"
      ]
     },
     "execution_count": 13,
     "metadata": {},
     "output_type": "execute_result"
    }
   ],
   "source": [
    "results_df[\"best_params\"].iloc[0]"
   ]
  },
  {
   "cell_type": "code",
   "execution_count": 10,
   "id": "80015388",
   "metadata": {},
   "outputs": [
    {
     "data": {
      "image/png": "[encoded data removed]",
      "text/plain": [
       "<Figure size 640x480 with 1 Axes>"
      ]
     },
     "metadata": {},
     "output_type": "display_data"
    },
    {
     "data": {
      "text/html": [
       "<div>\n",
       "<style scoped>\n",
       "    .dataframe tbody tr th:only-of-type {\n",
       "        vertical-align: middle;\n",
       "    }\n",
       "\n",
       "    .dataframe tbody tr th {\n",
       "        vertical-align: top;\n",
       "    }\n",
       "\n",
       "    .dataframe thead th {\n",
       "        text-align: right;\n",
       "    }\n",
       "</style>\n",
       "<table border=\"1\" class=\"dataframe\">\n",
       "  <thead>\n",
       "    <tr style=\"text-align: right;\">\n",
       "      <th></th>\n",
       "      <th>left_out_subject</th>\n",
       "      <th>acc_csp_lda</th>\n",
       "      <th>acc_eegnet</th>\n",
       "      <th>best_params</th>\n",
       "    </tr>\n",
       "  </thead>\n",
       "  <tbody>\n",
       "    <tr>\n",
       "      <th>0</th>\n",
       "      <td>1</td>\n",
       "      <td>0.488889</td>\n",
       "      <td>0.511111</td>\n",
       "      <td>{'F1': 32, 'D': 1, 'dropout': 0.45326550568397...</td>\n",
       "    </tr>\n",
       "    <tr>\n",
       "      <th>1</th>\n",
       "      <td>2</td>\n",
       "      <td>0.400000</td>\n",
       "      <td>0.444444</td>\n",
       "      <td>{'F1': 8, 'D': 4, 'dropout': 0.287948335987449...</td>\n",
       "    </tr>\n",
       "    <tr>\n",
       "      <th>2</th>\n",
       "      <td>3</td>\n",
       "      <td>0.488889</td>\n",
       "      <td>0.466667</td>\n",
       "      <td>{'F1': 32, 'D': 4, 'dropout': 0.69638560275773...</td>\n",
       "    </tr>\n",
       "  </tbody>\n",
       "</table>\n",
       "</div>"
      ],
      "text/plain": [
       "   left_out_subject  acc_csp_lda  acc_eegnet  \\\n",
       "0                 1     0.488889    0.511111   \n",
       "1                 2     0.400000    0.444444   \n",
       "2                 3     0.488889    0.466667   \n",
       "\n",
       "                                         best_params  \n",
       "0  {'F1': 32, 'D': 1, 'dropout': 0.45326550568397...  \n",
       "1  {'F1': 8, 'D': 4, 'dropout': 0.287948335987449...  \n",
       "2  {'F1': 32, 'D': 4, 'dropout': 0.69638560275773...  "
      ]
     },
     "execution_count": 10,
     "metadata": {},
     "output_type": "execute_result"
    }
   ],
   "source": [
    "\n",
    "if not results_df.empty:\n",
    "    ax = results_df.set_index(\"left_out_subject\")[[\"acc_csp_lda\",\"acc_eegnet\"]].plot(kind=\"bar\")\n",
    "    ax.set_ylabel(\"Accuracy\")\n",
    "    ax.set_xlabel(\"Left-out subject\")\n",
    "    ax.set_title(\"LOSO comparison: CSP+LDA vs EEGNet\")\n",
    "    plt.tight_layout()\n",
    "    plt.show()\n",
    "results_df\n"
   ]
  },
  {
   "cell_type": "code",
   "execution_count": 14,
   "id": "b6f45ca0-18a2-4cd9-8d74-ebf957f695d2",
   "metadata": {},
   "outputs": [],
   "source": [
    "pd.set_option('display.max_colwidth', None)"
   ]
  },
  {
   "cell_type": "code",
   "execution_count": 16,
   "id": "d2f0a8bc-3bb8-44cc-940e-7d506dd46583",
   "metadata": {},
   "outputs": [
    {
     "data": {
      "text/html": [
       "<div>\n",
       "<style scoped>\n",
       "    .dataframe tbody tr th:only-of-type {\n",
       "        vertical-align: middle;\n",
       "    }\n",
       "\n",
       "    .dataframe tbody tr th {\n",
       "        vertical-align: top;\n",
       "    }\n",
       "\n",
       "    .dataframe thead th {\n",
       "        text-align: right;\n",
       "    }\n",
       "</style>\n",
       "<table border=\"1\" class=\"dataframe\">\n",
       "  <thead>\n",
       "    <tr style=\"text-align: right;\">\n",
       "      <th></th>\n",
       "      <th>left_out_subject</th>\n",
       "      <th>acc_csp_lda</th>\n",
       "      <th>acc_eegnet</th>\n",
       "      <th>best_params</th>\n",
       "    </tr>\n",
       "  </thead>\n",
       "  <tbody>\n",
       "    <tr>\n",
       "      <th>0</th>\n",
       "      <td>1</td>\n",
       "      <td>0.488889</td>\n",
       "      <td>0.511111</td>\n",
       "      <td>{'F1': 32, 'D': 1, 'dropout': 0.45326550568397994, 'lr': 0.0005310229292330667, 'batch_size': 64}</td>\n",
       "    </tr>\n",
       "    <tr>\n",
       "      <th>1</th>\n",
       "      <td>2</td>\n",
       "      <td>0.400000</td>\n",
       "      <td>0.444444</td>\n",
       "      <td>{'F1': 8, 'D': 4, 'dropout': 0.2879483359874494, 'lr': 0.0019704837498947347, 'batch_size': 16}</td>\n",
       "    </tr>\n",
       "    <tr>\n",
       "      <th>2</th>\n",
       "      <td>3</td>\n",
       "      <td>0.488889</td>\n",
       "      <td>0.466667</td>\n",
       "      <td>{'F1': 32, 'D': 4, 'dropout': 0.6963856027577339, 'lr': 0.000612197660938815, 'batch_size': 64}</td>\n",
       "    </tr>\n",
       "  </tbody>\n",
       "</table>\n",
       "</div>"
      ],
      "text/plain": [
       "   left_out_subject  acc_csp_lda  acc_eegnet  \\\n",
       "0                 1     0.488889    0.511111   \n",
       "1                 2     0.400000    0.444444   \n",
       "2                 3     0.488889    0.466667   \n",
       "\n",
       "                                                                                         best_params  \n",
       "0  {'F1': 32, 'D': 1, 'dropout': 0.45326550568397994, 'lr': 0.0005310229292330667, 'batch_size': 64}  \n",
       "1    {'F1': 8, 'D': 4, 'dropout': 0.2879483359874494, 'lr': 0.0019704837498947347, 'batch_size': 16}  \n",
       "2    {'F1': 32, 'D': 4, 'dropout': 0.6963856027577339, 'lr': 0.000612197660938815, 'batch_size': 64}  "
      ]
     },
     "execution_count": 16,
     "metadata": {},
     "output_type": "execute_result"
    }
   ],
   "source": [
    "results_df"
   ]
  },
  {
   "cell_type": "code",
   "execution_count": null,
   "id": "b190f5d1-b7c1-46e7-8a35-9c323af6c65a",
   "metadata": {},
   "outputs": [],
   "source": []
  }
 ],
 "metadata": {
  "kernelspec": {
   "display_name": "Python [conda env:base] *",
   "language": "python",
   "name": "conda-base-py"
  },
  "language_info": {
   "codemirror_mode": {
    "name": "ipython",
    "version": 3
   },
   "file_extension": ".py",
   "mimetype": "text/x-python",
   "name": "python",
   "nbconvert_exporter": "python",
   "pygments_lexer": "ipython3",
   "version": "3.13.5"
  }
 },
 "nbformat": 4,
 "nbformat_minor": 5
}
